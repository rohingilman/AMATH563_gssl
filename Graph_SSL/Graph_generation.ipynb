{
 "cells": [
  {
   "cell_type": "code",
   "execution_count": 2,
   "metadata": {},
   "outputs": [],
   "source": [
    "import numpy as np\n",
    "from matplotlib import pyplot as plt\n",
    "from scipy.sparse import csr_matrix\n",
    "from scipy.sparse.linalg import eigsh\n",
    "from scipy.spatial import distance\n",
    "\n",
    "from numpy import array, array_equal, allclose"
   ]
  },
  {
   "cell_type": "code",
   "execution_count": 3,
   "metadata": {},
   "outputs": [],
   "source": [
    "pi = np.pi\n",
    "m = 100\n",
    "C = 1\n",
    "eps = C*((np.log(m))**(3/4))/(m**(1/2))\n",
    "ker = 1/(pi*eps**2)\n",
    "omega_pts1 = (0,1)\n",
    "omega_pts2 = (2,3)\n",
    "omega_pts3 = (4,5)"
   ]
  },
  {
   "cell_type": "code",
   "execution_count": 4,
   "metadata": {},
   "outputs": [],
   "source": [
    "X1 = [np.random.uniform(omega_pts1[0],omega_pts1[1],(2,1)) for _ in range(m)]\n",
    "X2 = [np.random.uniform(omega_pts2[0],omega_pts2[1],(2,1)) for _ in range(m)]\n",
    "X3 = [np.random.uniform(omega_pts3[0],omega_pts3[1],(2,1)) for _ in range(m)]"
   ]
  },
  {
   "cell_type": "code",
   "execution_count": 6,
   "metadata": {},
   "outputs": [
    {
     "ename": "NameError",
     "evalue": "name 'X' is not defined",
     "output_type": "error",
     "traceback": [
      "\u001b[0;31m---------------------------------------------------------------------------\u001b[0m",
      "\u001b[0;31mNameError\u001b[0m                                 Traceback (most recent call last)",
      "\u001b[0;32m<ipython-input-6-b5fec669aca1>\u001b[0m in \u001b[0;36m<module>\u001b[0;34m\u001b[0m\n\u001b[0;32m----> 1\u001b[0;31m \u001b[0mX\u001b[0m\u001b[0;34m\u001b[0m\u001b[0;34m\u001b[0m\u001b[0m\n\u001b[0m",
      "\u001b[0;31mNameError\u001b[0m: name 'X' is not defined"
     ]
    }
   ],
   "source": [
    "X"
   ]
  },
  {
   "cell_type": "code",
   "execution_count": 5,
   "metadata": {},
   "outputs": [],
   "source": [
    "def get_ordered_pairs(X):\n",
    "    pairs_x = []\n",
    "    pairs_y = []\n",
    "    for i in range(len(X)):\n",
    "        pairs_x.append(X[i][0][0])\n",
    "        pairs_y.append(X[i][1][0])\n",
    "    return pairs_x, pairs_y"
   ]
  },
  {
   "cell_type": "code",
   "execution_count": 6,
   "metadata": {},
   "outputs": [],
   "source": [
    "pairs_1x, pairs_1y = get_ordered_pairs(X1)\n",
    "pairs_2x, pairs_2y = get_ordered_pairs(X2)\n",
    "pairs_3x, pairs_3y = get_ordered_pairs(X3)"
   ]
  },
  {
   "cell_type": "code",
   "execution_count": 7,
   "metadata": {},
   "outputs": [
    {
     "data": {
      "text/plain": [
       "<matplotlib.collections.PathCollection at 0x7fc8d05fde50>"
      ]
     },
     "execution_count": 7,
     "metadata": {},
     "output_type": "execute_result"
    },
    {
     "data": {
      "image/png": "[encoded data removed]",
      "text/plain": [
       "<Figure size 432x288 with 1 Axes>"
      ]
     },
     "metadata": {
      "needs_background": "light"
     },
     "output_type": "display_data"
    }
   ],
   "source": [
    "plt.scatter(pairs_1x, pairs_1y)\n",
    "plt.scatter(pairs_2x, pairs_2y)\n",
    "plt.scatter(pairs_3x, pairs_3y)"
   ]
  },
  {
   "cell_type": "markdown",
   "metadata": {},
   "source": [
    "Constructing K-NN graph"
   ]
  },
  {
   "cell_type": "code",
   "execution_count": 8,
   "metadata": {},
   "outputs": [],
   "source": [
    "k = 5"
   ]
  },
  {
   "cell_type": "code",
   "execution_count": 9,
   "metadata": {},
   "outputs": [],
   "source": [
    "X_1 = np.array([pairs_1x,pairs_1y]).T\n",
    "X_2 = np.array([pairs_2x,pairs_2y]).T\n",
    "X_3 = np.array([pairs_3x,pairs_3y]).T"
   ]
  },
  {
   "cell_type": "code",
   "execution_count": 10,
   "metadata": {},
   "outputs": [],
   "source": [
    "distance_matrix = np.zeros((3*m,3*m))\n",
    "X = np.concatenate([X_1,X_2,X_3],axis=0)\n",
    "for i in range(len(X)):\n",
    "    for j in range(len(X)):\n",
    "        distance_matrix[i][j] = distance.euclidean(X[i],X[j])\n",
    "distance_matrix += np.eye(3*m)*2e10"
   ]
  },
  {
   "cell_type": "code",
   "execution_count": 11,
   "metadata": {},
   "outputs": [],
   "source": [
    "nearest_neighbours_idx = [list(i.argsort()[:k]) for i in distance_matrix]"
   ]
  },
  {
   "cell_type": "code",
   "execution_count": 12,
   "metadata": {},
   "outputs": [],
   "source": [
    "nearest_neighbours = [X[i] for i in nearest_neighbours_idx]\n",
    "nearest_neighbours = [list(i) for i in nearest_neighbours]"
   ]
  },
  {
   "cell_type": "code",
   "execution_count": 13,
   "metadata": {},
   "outputs": [],
   "source": [
    "def arreq_in_list(myarr, list_arrays):\n",
    "    return next((True for elem in list_arrays if array_equal(elem, myarr)), False)"
   ]
  },
  {
   "cell_type": "code",
   "execution_count": 14,
   "metadata": {},
   "outputs": [],
   "source": [
    "rbf = lambda x1, x2, gamma:  np.exp(-gamma*np.linalg.norm(x1-x2)**2)"
   ]
  },
  {
   "cell_type": "code",
   "execution_count": 249,
   "metadata": {},
   "outputs": [],
   "source": [
    "W = np.zeros((3*m,3*m))\n",
    "for i in range(len(X)):\n",
    "    for j in range(len(nearest_neighbours)):\n",
    "        if arreq_in_list(X[i],nearest_neighbours[j]) or arreq_in_list(X[j],nearest_neighbours[i]):\n",
    "            W[i][j] = rbf(X[i],X[j],0.5)"
   ]
  },
  {
   "cell_type": "code",
   "execution_count": 250,
   "metadata": {},
   "outputs": [
    {
     "data": {
      "text/plain": [
       "array([ True])"
      ]
     },
     "execution_count": 250,
     "metadata": {},
     "output_type": "execute_result"
    }
   ],
   "source": [
    "np.unique(W == W.T)"
   ]
  },
  {
   "cell_type": "code",
   "execution_count": 252,
   "metadata": {},
   "outputs": [],
   "source": [
    "d = np.sum(W,axis=1)\n",
    "D = np.diag(d)\n",
    "D_2 = np.sqrt(D)\n",
    "D_inv = np.linalg.inv(D_2)\n",
    "L = D_inv@(D-W)@D_inv"
   ]
  },
  {
   "cell_type": "code",
   "execution_count": 16,
   "metadata": {},
   "outputs": [],
   "source": [
    "from KNN import KNN"
   ]
  },
  {
   "cell_type": "code",
   "execution_count": 17,
   "metadata": {},
   "outputs": [],
   "source": [
    "L, W = KNN(X,k,m,rbf)"
   ]
  },
  {
   "cell_type": "code",
   "execution_count": 18,
   "metadata": {},
   "outputs": [
    {
     "data": {
      "text/plain": [
       "array([[1., 0., 0., ..., 0., 0., 0.],\n",
       "       [0., 1., 0., ..., 0., 0., 0.],\n",
       "       [0., 0., 1., ..., 0., 0., 0.],\n",
       "       ...,\n",
       "       [0., 0., 0., ..., 1., 0., 0.],\n",
       "       [0., 0., 0., ..., 0., 1., 0.],\n",
       "       [0., 0., 0., ..., 0., 0., 1.]])"
      ]
     },
     "execution_count": 18,
     "metadata": {},
     "output_type": "execute_result"
    }
   ],
   "source": [
    "L"
   ]
  },
  {
   "cell_type": "code",
   "execution_count": null,
   "metadata": {},
   "outputs": [],
   "source": []
  }
 ],
 "metadata": {
  "kernelspec": {
   "display_name": "Python 3.8.2 64-bit",
   "language": "python",
   "name": "python3"
  },
  "language_info": {
   "codemirror_mode": {
    "name": "ipython",
    "version": 3
   },
   "file_extension": ".py",
   "mimetype": "text/x-python",
   "name": "python",
   "nbconvert_exporter": "python",
   "pygments_lexer": "ipython3",
   "version": "3.8.2"
  },
  "orig_nbformat": 4,
  "vscode": {
   "interpreter": {
    "hash": "aee8b7b246df8f9039afb4144a1f6fd8d2ca17a180786b69acc140d282b71a49"
   }
  }
 },
 "nbformat": 4,
 "nbformat_minor": 2
}
