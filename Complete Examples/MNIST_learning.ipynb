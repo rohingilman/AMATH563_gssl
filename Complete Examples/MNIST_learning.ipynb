{
 "cells": [
  {
   "cell_type": "code",
   "execution_count": 1,
   "metadata": {},
   "outputs": [],
   "source": [
    "import numpy as np\n",
    "from matplotlib import pyplot as plt\n",
    "from scipy.sparse import csr_matrix\n",
    "from scipy.sparse.linalg import eigsh\n",
    "from scipy.spatial import distance\n",
    "from math import dist\n",
    "from math import floor\n",
    "\n",
    "from numpy import array, array_equal, allclose\n",
    "\n",
    "import pandas as pd\n",
    "\n",
    "from sklearn.decomposition import PCA\n",
    "from sklearn.preprocessing import StandardScaler\n",
    "\n",
    "\n",
    "from weights import KNN\n",
    "from weights import proximity\n",
    "\n",
    "from accuracy import KNN_acc"
   ]
  },
  {
   "cell_type": "code",
   "execution_count": 225,
   "metadata": {},
   "outputs": [],
   "source": [
    "def train_test(train: pd.DataFrame, test: pd.DataFrame, num1: int, num2: int, ker=\"rbf\"):\n",
    "    y_train = train[\"label\"]\n",
    "    x_train = train.loc[:, [x for x in train.columns if x != \"label\"]]\n",
    "\n",
    "    y_test = test[\"label\"]\n",
    "    x_test = test.loc[:, [x for x in train.columns if x != \"label\"]]\n",
    "\n",
    "    pca = PCA()\n",
    "    pca.fit(x_train)\n",
    "    x_pca = pca.transform(x_train)\n",
    "\n",
    "    var = pca.explained_variance_ratio_\n",
    "    sum_var = 0\n",
    "    i_count = 0\n",
    "    for i in range(len(var)):\n",
    "        sum_var += var[i]\n",
    "        if sum_var >= 0.8:\n",
    "            i_count = i\n",
    "            break\n",
    "\n",
    "    np.sum(var[:i_count+1])\n",
    "\n",
    "    x_pca = x_pca[:,:(i_count+1)]\n",
    "\n",
    "    def collect_nums(x: pd.DataFrame, num1: int, num2: int):\n",
    "        i_list = x.index[(x['label']==num1)|(x['label']==num2)].tolist()\n",
    "        return i_list\n",
    "\n",
    "    num_indices_0_train = collect_nums(train,num1,num2)\n",
    "    num_indices_0_test = collect_nums(test,num1,num2)\n",
    "    \n",
    "    x_train = x_train.to_numpy()\n",
    "    x_train = x_train[num_indices_0_train,:]\n",
    "    x_pca = x_pca[num_indices_0_train,:]\n",
    "    y_train = y_train[num_indices_0_train].to_numpy()\n",
    "    y_train[y_train==num1] = -1\n",
    "    y_train[y_train==num2] = 1\n",
    "\n",
    "    # scale for the rbf\n",
    "    if ker == \"rbf\":\n",
    "        scaler = StandardScaler().fit(x_train)\n",
    "        x_train_scaled = scaler.transform(x_train)\n",
    "        scaler = StandardScaler().fit(x_pca)\n",
    "        x_pca_scaled = scaler.transform(x_pca)\n",
    "\n",
    "        return x_train_scaled, y_train, x_pca_scaled\n",
    "\n",
    "    else:\n",
    "        return x_train, y_train, x_pca"
   ]
  },
  {
   "cell_type": "code",
   "execution_count": 221,
   "metadata": {},
   "outputs": [],
   "source": [
    "train = pd.read_csv(\"../Data/mnist_train.csv\")\n",
    "test = pd.read_csv(\"../Data/mnist_test.csv\")"
   ]
  },
  {
   "cell_type": "code",
   "execution_count": 226,
   "metadata": {},
   "outputs": [],
   "source": [
    "X, y, X_pca = train_test(train, test, 0, 1,\"rbf\")\n",
    "X = X[:500,:]\n",
    "y = y[:500]\n",
    "X_pca = X_pca[:500,:]"
   ]
  },
  {
   "cell_type": "code",
   "execution_count": 239,
   "metadata": {},
   "outputs": [],
   "source": [
    "#Global variables\n",
    "size = 30\n",
    "k = 6 #was 3\n",
    "tau = 1  #was 1\n",
    "alpha = 2 #was 2\n",
    "lossf = \"probit\"\n",
    "\n",
    "dists = []\n",
    "for x1 in X:\n",
    "\tfor x2 in X:\n",
    "\t\tdists += [dist(x1,x2)]\n",
    "dists.sort()\n",
    "\n",
    "mult = 1 #brought this down order of 1000\n",
    "# mult = 1\n",
    "# gamma = dists[floor(len(dists)/4)]*mult\n",
    "# gamma = 0.385 #gamma=0.4 kinda works\n",
    "# gamma = 0.07\n",
    "gamma = 0.04\n",
    "# gamma=0.01\n",
    "# print(gamma)\n",
    "\n",
    "rbf = lambda x1, x2: np.exp(gamma**2*-0.5*dist(x1,x2)**2)\n",
    "\n",
    "lamb = (tau**(2*alpha))/2"
   ]
  },
  {
   "cell_type": "code",
   "execution_count": 240,
   "metadata": {},
   "outputs": [],
   "source": [
    "kvals_keep = np.random.randint(0,y.shape[0],size=size)\n",
    "kvals = y[kvals_keep]"
   ]
  },
  {
   "cell_type": "code",
   "execution_count": 241,
   "metadata": {},
   "outputs": [
    {
     "name": "stdout",
     "output_type": "stream",
     "text": [
      "Computing distance matrix\n",
      "Finished computing graph laplacian\n"
     ]
    }
   ],
   "source": [
    "L,W = KNN(X,len(y),k,rbf)"
   ]
  },
  {
   "cell_type": "code",
   "execution_count": 242,
   "metadata": {},
   "outputs": [
    {
     "data": {
      "text/plain": [
       "array([-3.31808911e-15,  1.71311673e-16,  8.42625508e-09,  8.70259055e-09,\n",
       "        2.27330159e-04,  1.45922591e-03,  1.02694810e-02,  2.78753629e-02,\n",
       "        1.22554870e-01,  2.79525182e-01,  3.68731655e-01,  4.48544691e-01,\n",
       "        5.26223713e-01,  5.61065789e-01,  6.28882578e-01,  6.75601770e-01,\n",
       "        7.04988379e-01,  7.49244193e-01,  7.95526606e-01,  8.11070142e-01,\n",
       "        8.20274026e-01,  8.97946601e-01,  9.53058619e-01,  1.02619215e+00,\n",
       "        1.05831101e+00,  1.13683437e+00,  1.17165044e+00,  1.19339506e+00,\n",
       "        1.32648497e+00,  1.36191928e+00,  1.37510481e+00,  1.55230821e+00,\n",
       "        1.58659722e+00,  1.60167616e+00,  1.64422089e+00,  1.71959971e+00,\n",
       "        1.73712176e+00,  1.77101942e+00,  1.81653708e+00,  1.87055155e+00,\n",
       "        1.88239094e+00,  1.92025672e+00,  1.95058521e+00,  1.98259651e+00,\n",
       "        2.01523371e+00,  2.05310573e+00,  2.10331292e+00,  2.16750942e+00,\n",
       "        2.17431441e+00,  2.24135416e+00,  2.34257044e+00,  2.34848823e+00,\n",
       "        2.39319675e+00,  2.44388933e+00,  2.45814939e+00,  2.50451078e+00,\n",
       "        2.58716452e+00,  2.60260174e+00,  2.64353030e+00,  2.68317646e+00,\n",
       "        2.73995665e+00,  2.75779070e+00,  2.77330772e+00,  2.81234485e+00,\n",
       "        2.82906179e+00,  2.86211231e+00,  2.88083792e+00,  2.90569280e+00,\n",
       "        2.96947708e+00,  2.99486918e+00,  3.03103260e+00,  3.06088057e+00,\n",
       "        3.06455497e+00,  3.07930208e+00,  3.08808862e+00,  3.11235026e+00,\n",
       "        3.15912656e+00,  3.20119830e+00,  3.20459074e+00,  3.23218089e+00,\n",
       "        3.24389296e+00,  3.25885067e+00,  3.28806932e+00,  3.32550854e+00,\n",
       "        3.35261881e+00,  3.37711274e+00,  3.38412521e+00,  3.42675725e+00,\n",
       "        3.45303947e+00,  3.47637503e+00,  3.48238629e+00,  3.53000059e+00,\n",
       "        3.57557187e+00,  3.57967024e+00,  3.59930306e+00,  3.61196285e+00,\n",
       "        3.63872483e+00,  3.67021673e+00,  3.69144213e+00,  3.76837210e+00,\n",
       "        3.78111233e+00,  3.79918184e+00,  3.82942677e+00,  3.84026916e+00,\n",
       "        3.86307394e+00,  3.89451125e+00,  3.91530392e+00,  3.91912983e+00,\n",
       "        3.96644268e+00,  3.99621961e+00,  4.01174092e+00,  4.02020534e+00,\n",
       "        4.03486664e+00,  4.09374410e+00,  4.10022849e+00,  4.14029431e+00,\n",
       "        4.17200526e+00,  4.17914668e+00,  4.19750168e+00,  4.23394881e+00,\n",
       "        4.23778184e+00,  4.24169680e+00,  4.27527411e+00,  4.29769474e+00,\n",
       "        4.35271404e+00,  4.35573344e+00,  4.36915460e+00,  4.39533943e+00,\n",
       "        4.43523456e+00,  4.45347924e+00,  4.46087963e+00,  4.49428574e+00,\n",
       "        4.52634804e+00,  4.53437368e+00,  4.55469578e+00,  4.56647402e+00,\n",
       "        4.59565008e+00,  4.60094265e+00,  4.61275997e+00,  4.65921219e+00,\n",
       "        4.66861605e+00,  4.71476463e+00,  4.72209132e+00,  4.72925021e+00,\n",
       "        4.73650507e+00,  4.76765913e+00,  4.79229129e+00,  4.79848398e+00,\n",
       "        4.81416126e+00,  4.83735152e+00,  4.88125836e+00,  4.92515161e+00,\n",
       "        4.94336967e+00,  4.96173010e+00,  4.99989541e+00,  5.01458729e+00,\n",
       "        5.03795266e+00,  5.07993116e+00,  5.08959373e+00,  5.10521752e+00,\n",
       "        5.12111724e+00,  5.13334725e+00,  5.14811460e+00,  5.16473665e+00,\n",
       "        5.17941237e+00,  5.20920432e+00,  5.23455774e+00,  5.23922622e+00,\n",
       "        5.27927047e+00,  5.29074345e+00,  5.29692026e+00,  5.30789526e+00,\n",
       "        5.31967889e+00,  5.33737551e+00,  5.37001703e+00,  5.37825090e+00,\n",
       "        5.41215722e+00,  5.41949385e+00,  5.42668614e+00,  5.44275432e+00,\n",
       "        5.47831075e+00,  5.52904111e+00,  5.53644533e+00,  5.54223909e+00,\n",
       "        5.55819922e+00,  5.58341843e+00,  5.59249260e+00,  5.62816133e+00,\n",
       "        5.65303831e+00,  5.67455032e+00,  5.69938139e+00,  5.71035960e+00,\n",
       "        5.74110032e+00,  5.74761241e+00,  5.78338974e+00,  5.78737602e+00,\n",
       "        5.81132194e+00,  5.84265864e+00,  5.86081509e+00,  5.89322309e+00,\n",
       "        5.92114365e+00,  5.92938077e+00,  5.93000314e+00,  5.96926567e+00,\n",
       "        5.98079155e+00,  6.00956964e+00,  6.03257486e+00,  6.06726298e+00,\n",
       "        6.07473596e+00,  6.09048472e+00,  6.09362603e+00,  6.11964313e+00,\n",
       "        6.12190336e+00,  6.14826944e+00,  6.17921236e+00,  6.18068670e+00,\n",
       "        6.21866557e+00,  6.24611196e+00,  6.26046669e+00,  6.28095097e+00,\n",
       "        6.29157913e+00,  6.30954934e+00,  6.33368017e+00,  6.34011368e+00,\n",
       "        6.35949666e+00,  6.41417692e+00,  6.43460054e+00,  6.44841773e+00,\n",
       "        6.46761662e+00,  6.48506769e+00,  6.49328042e+00,  6.50881843e+00,\n",
       "        6.51791789e+00,  6.53435251e+00,  6.54381222e+00,  6.55948744e+00,\n",
       "        6.58918983e+00,  6.60485526e+00,  6.63218230e+00,  6.64849736e+00,\n",
       "        6.66088045e+00,  6.72044207e+00,  6.72639678e+00,  6.73532645e+00,\n",
       "        6.76548851e+00,  6.78020109e+00,  6.79372419e+00,  6.79808051e+00,\n",
       "        6.82725134e+00,  6.84644677e+00,  6.88115035e+00,  6.88732286e+00,\n",
       "        6.89856782e+00,  6.95164960e+00,  6.96566675e+00,  6.98253689e+00,\n",
       "        6.99217964e+00,  7.01284032e+00,  7.01587713e+00,  7.04941894e+00,\n",
       "        7.06642368e+00,  7.09212266e+00,  7.09943655e+00,  7.10307314e+00,\n",
       "        7.11880927e+00,  7.17694073e+00,  7.20011128e+00,  7.20611622e+00,\n",
       "        7.22230422e+00,  7.23726829e+00,  7.26348982e+00,  7.27895147e+00,\n",
       "        7.29492510e+00,  7.33287406e+00,  7.34314034e+00,  7.35717440e+00,\n",
       "        7.37475279e+00,  7.38159990e+00,  7.43524314e+00,  7.45410204e+00,\n",
       "        7.46467393e+00,  7.47121944e+00,  7.48318637e+00,  7.49990488e+00,\n",
       "        7.50146025e+00,  7.52536592e+00,  7.53185122e+00,  7.56895746e+00,\n",
       "        7.59581933e+00,  7.64835040e+00,  7.66609009e+00,  7.68074067e+00,\n",
       "        7.69315151e+00,  7.73006214e+00,  7.73764082e+00,  7.77091456e+00,\n",
       "        7.79234119e+00,  7.79880199e+00,  7.81584094e+00,  7.82738322e+00,\n",
       "        7.86383272e+00,  7.87096661e+00,  7.87861427e+00,  7.91448239e+00,\n",
       "        7.92371357e+00,  7.92649445e+00,  7.93650959e+00,  7.98388991e+00,\n",
       "        8.04595297e+00,  8.05204781e+00,  8.07971176e+00,  8.11202860e+00,\n",
       "        8.12189941e+00,  8.15223533e+00,  8.19457738e+00,  8.22161271e+00,\n",
       "        8.23426503e+00,  8.25566779e+00,  8.28215279e+00,  8.30176802e+00,\n",
       "        8.31170725e+00,  8.33406397e+00,  8.41029481e+00,  8.45333935e+00,\n",
       "        8.47264169e+00,  8.47452893e+00,  8.49780259e+00,  8.50473697e+00,\n",
       "        8.51650301e+00,  8.54842454e+00,  8.56992567e+00,  8.57158612e+00,\n",
       "        8.59926468e+00,  8.62644792e+00,  8.65249638e+00,  8.66417473e+00,\n",
       "        8.67412595e+00,  8.69940278e+00,  8.71186315e+00,  8.72450492e+00,\n",
       "        8.73468408e+00,  8.74476903e+00,  8.75749432e+00,  8.76416257e+00,\n",
       "        8.79167492e+00,  8.82987849e+00,  8.85356495e+00,  8.87943531e+00,\n",
       "        8.88516607e+00,  8.89924769e+00,  8.92540332e+00,  8.93829907e+00,\n",
       "        8.95999351e+00,  9.01077972e+00,  9.02191887e+00,  9.02809098e+00,\n",
       "        9.03683150e+00,  9.03976781e+00,  9.08926048e+00,  9.12718273e+00,\n",
       "        9.16642410e+00,  9.17943355e+00,  9.20968553e+00,  9.22976354e+00,\n",
       "        9.25181361e+00,  9.25779372e+00,  9.28751096e+00,  9.32239236e+00,\n",
       "        9.33198393e+00,  9.38734788e+00,  9.39396148e+00,  9.41270381e+00,\n",
       "        9.43984432e+00,  9.45529571e+00,  9.46012880e+00,  9.47804919e+00,\n",
       "        9.48687162e+00,  9.51481860e+00,  9.54087640e+00,  9.57917803e+00,\n",
       "        9.59703966e+00,  9.61696145e+00,  9.62430004e+00,  9.62926782e+00,\n",
       "        9.67085264e+00,  9.69102369e+00,  9.72955466e+00,  9.73294494e+00,\n",
       "        9.76723485e+00,  9.80089366e+00,  9.83272223e+00,  9.86055130e+00,\n",
       "        9.88572030e+00,  9.90622876e+00,  9.91950938e+00,  9.98034722e+00,\n",
       "        9.99143958e+00,  1.00019296e+01,  1.00156289e+01,  1.00473384e+01,\n",
       "        1.01094826e+01,  1.01188813e+01,  1.01378131e+01,  1.01600798e+01,\n",
       "        1.02150803e+01,  1.02505479e+01,  1.02634720e+01,  1.03274760e+01,\n",
       "        1.03608772e+01,  1.04039477e+01,  1.04152691e+01,  1.04267342e+01,\n",
       "        1.04416031e+01,  1.04497743e+01,  1.05228742e+01,  1.05606760e+01,\n",
       "        1.05884889e+01,  1.05945492e+01,  1.06133235e+01,  1.06244675e+01,\n",
       "        1.06943316e+01,  1.07124571e+01,  1.07340783e+01,  1.08088430e+01,\n",
       "        1.08293838e+01,  1.08600962e+01,  1.08641610e+01,  1.09374282e+01,\n",
       "        1.09777058e+01,  1.10184087e+01,  1.10446685e+01,  1.11058637e+01,\n",
       "        1.11235528e+01,  1.11323943e+01,  1.11909369e+01,  1.12566797e+01,\n",
       "        1.13378260e+01,  1.13434918e+01,  1.13807644e+01,  1.14192427e+01,\n",
       "        1.14619727e+01,  1.14725766e+01,  1.15519548e+01,  1.16101689e+01,\n",
       "        1.16200920e+01,  1.16593902e+01,  1.17128288e+01,  1.17287985e+01,\n",
       "        1.17353676e+01,  1.17425818e+01,  1.17768536e+01,  1.18335036e+01,\n",
       "        1.18361869e+01,  1.18445640e+01,  1.19461737e+01,  1.20619832e+01,\n",
       "        1.20730119e+01,  1.21698086e+01,  1.22602897e+01,  1.23000990e+01,\n",
       "        1.23267507e+01,  1.24019273e+01,  1.24553036e+01,  1.25146464e+01,\n",
       "        1.26693873e+01,  1.26914401e+01,  1.27289672e+01,  1.28163219e+01,\n",
       "        1.29205594e+01,  1.29561598e+01,  1.29795411e+01,  1.30840941e+01,\n",
       "        1.31173530e+01,  1.31262572e+01,  1.32400040e+01,  1.33694642e+01,\n",
       "        1.33923421e+01,  1.34672631e+01,  1.34719116e+01,  1.35891361e+01,\n",
       "        1.36467901e+01,  1.38540223e+01,  1.38716500e+01,  1.39017723e+01,\n",
       "        1.40562818e+01,  1.44331643e+01,  1.45039435e+01,  1.46847553e+01,\n",
       "        1.47638319e+01,  1.48225209e+01,  1.48557388e+01,  1.51043423e+01,\n",
       "        1.56228216e+01,  1.57061575e+01,  1.64445079e+01,  1.65714947e+01,\n",
       "        1.67107595e+01,  1.75252366e+01,  2.01981942e+01,  2.07965268e+01])"
      ]
     },
     "execution_count": 242,
     "metadata": {},
     "output_type": "execute_result"
    }
   ],
   "source": [
    "np.linalg.eigh(L)[0]"
   ]
  },
  {
   "cell_type": "code",
   "execution_count": 243,
   "metadata": {},
   "outputs": [
    {
     "name": "stdout",
     "output_type": "stream",
     "text": [
      "entering in KNN function\n",
      "Computing distance matrix\n",
      "Finished computing graph laplacian\n",
      "Starting the minimization\n",
      "After minimizing\n"
     ]
    }
   ],
   "source": [
    "acc = KNN_acc(X, y, kvals, k, tau, alpha, lossf, rbf)"
   ]
  },
  {
   "cell_type": "code",
   "execution_count": 244,
   "metadata": {},
   "outputs": [
    {
     "data": {
      "text/plain": [
       "0.896"
      ]
     },
     "execution_count": 244,
     "metadata": {},
     "output_type": "execute_result"
    }
   ],
   "source": [
    "acc"
   ]
  },
  {
   "cell_type": "code",
   "execution_count": 245,
   "metadata": {},
   "outputs": [
    {
     "name": "stdout",
     "output_type": "stream",
     "text": [
      "entering in KNN function\n",
      "Computing distance matrix\n",
      "Finished computing graph laplacian\n",
      "Starting the minimization\n",
      "After minimizing\n"
     ]
    },
    {
     "data": {
      "text/plain": [
       "0.908"
      ]
     },
     "execution_count": 245,
     "metadata": {},
     "output_type": "execute_result"
    }
   ],
   "source": [
    "lossr = \"regression\"\n",
    "acc_2 = KNN_acc(X, y, kvals, k, tau, alpha, lossr, rbf)\n",
    "acc_2"
   ]
  },
  {
   "cell_type": "code",
   "execution_count": 246,
   "metadata": {},
   "outputs": [
    {
     "name": "stdout",
     "output_type": "stream",
     "text": [
      "entering in KNN function\n",
      "Computing distance matrix\n",
      "Finished computing graph laplacian\n",
      "Starting the minimization\n",
      "After minimizing\n"
     ]
    },
    {
     "data": {
      "text/plain": [
       "0.85"
      ]
     },
     "execution_count": 246,
     "metadata": {},
     "output_type": "execute_result"
    }
   ],
   "source": [
    "unif = lambda x1, x2 : 1\n",
    "acc_3 = KNN_acc(X, y, kvals, k, tau, alpha, lossf, unif)\n",
    "acc_3"
   ]
  },
  {
   "cell_type": "code",
   "execution_count": 247,
   "metadata": {},
   "outputs": [
    {
     "name": "stdout",
     "output_type": "stream",
     "text": [
      "entering in KNN function\n",
      "Computing distance matrix\n",
      "Finished computing graph laplacian\n",
      "Starting the minimization\n",
      "After minimizing\n"
     ]
    },
    {
     "data": {
      "text/plain": [
       "0.85"
      ]
     },
     "execution_count": 247,
     "metadata": {},
     "output_type": "execute_result"
    }
   ],
   "source": [
    "acc_4 = KNN_acc(X, y, kvals, k, tau, alpha, lossf, unif)\n",
    "acc_4"
   ]
  },
  {
   "cell_type": "code",
   "execution_count": null,
   "metadata": {},
   "outputs": [],
   "source": []
  }
 ],
 "metadata": {
  "kernelspec": {
   "display_name": "Python 3.8.2 64-bit",
   "language": "python",
   "name": "python3"
  },
  "language_info": {
   "codemirror_mode": {
    "name": "ipython",
    "version": 3
   },
   "file_extension": ".py",
   "mimetype": "text/x-python",
   "name": "python",
   "nbconvert_exporter": "python",
   "pygments_lexer": "ipython3",
   "version": "3.8.2"
  },
  "orig_nbformat": 4,
  "vscode": {
   "interpreter": {
    "hash": "aee8b7b246df8f9039afb4144a1f6fd8d2ca17a180786b69acc140d282b71a49"
   }
  }
 },
 "nbformat": 4,
 "nbformat_minor": 2
}
